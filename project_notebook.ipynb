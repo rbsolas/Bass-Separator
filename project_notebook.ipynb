{
  "cells": [
    {
      "cell_type": "markdown",
      "metadata": {
        "colab_type": "text",
        "id": "view-in-github"
      },
      "source": [
        "<a href=\"https://colab.research.google.com/github/Birkbeck/bsc-computer-science-project-2021_22-mohammadreza490/blob/main/project_notebook.ipynb\" target=\"_parent\"><img src=\"https://colab.research.google.com/assets/colab-badge.svg\" alt=\"Open In Colab\"/></a>"
      ]
    },
    {
      "cell_type": "markdown",
      "metadata": {},
      "source": [
        "# Bass Extractor - Project Notebook"
      ]
    },
    {
      "cell_type": "markdown",
      "metadata": {},
      "source": [
        "## Installing and Importing Dependencies"
      ]
    },
    {
      "cell_type": "code",
      "execution_count": 1,
      "metadata": {},
      "outputs": [],
      "source": [
        "# Relative path to src folder here\n",
        "PATH_TO_SRC_FOLDER = r\".\\src\""
      ]
    },
    {
      "cell_type": "code",
      "execution_count": 2,
      "metadata": {},
      "outputs": [],
      "source": [
        "# Allows auto reloading of modules\n",
        "%load_ext autoreload\n",
        "%autoreload 2"
      ]
    },
    {
      "cell_type": "code",
      "execution_count": null,
      "metadata": {},
      "outputs": [],
      "source": [
        "# Install dependencies\n",
        "!pip install musdb\n",
        "!pip install numpy\n",
        "!pip install pydub\n",
        "!pip install \"tensorflow<2.11\" # GPU can only be used for versions 2.10 and earlier\n",
        "!pip install ipdb\n",
        "!pip install museval\n",
        "!pip install librosa\n",
        "!pip install matplotlib"
      ]
    },
    {
      "cell_type": "code",
      "execution_count": 3,
      "metadata": {
        "id": "sSOeC37OnHXK"
      },
      "outputs": [],
      "source": [
        "# Import modules\n",
        "import os\n",
        "import sys\n",
        "\n",
        "import numpy as np\n",
        "import librosa\n",
        "import librosa.display\n",
        "import matplotlib.pyplot as plt\n",
        "import tensorflow as tf\n",
        "import pandas as pd\n",
        "import IPython.display as ipd\n",
        "import musdb\n",
        "import pydub\n",
        "import scipy\n",
        "import soundfile as sf\n",
        "import museval\n",
        "import random\n",
        "import math\n",
        "\n",
        "from scipy.io.wavfile import write\n",
        "from glob import glob"
      ]
    },
    {
      "cell_type": "code",
      "execution_count": 4,
      "metadata": {},
      "outputs": [],
      "source": [
        "# Add path to src folder to the path variable \n",
        "if PATH_TO_SRC_FOLDER not in sys.path:\n",
        "  sys.path.append(PATH_TO_SRC_FOLDER) # https://stackoverflow.com/questions/48905127/importing-py-files-in-google-colab"
      ]
    },
    {
      "cell_type": "code",
      "execution_count": 10,
      "metadata": {},
      "outputs": [],
      "source": [
        "# Import user-defined modules\n",
        "from wav_handler import WavHandler\n",
        "from dataset_handler import DatasetHandler\n",
        "from plotter import Plotter\n",
        "from model_handler import ModelHandler\n",
        "from config import INPUT_WIDTH, INPUT_HEIGHT, INPUT_CHANNELS, OUTPUT_CHANNELS, PATH_TO_MODEL"
      ]
    },
    {
      "cell_type": "code",
      "execution_count": 6,
      "metadata": {},
      "outputs": [
        {
          "name": "stdout",
          "output_type": "stream",
          "text": [
            "tf.Tensor(-1982.6267, shape=(), dtype=float32)\n",
            "[PhysicalDevice(name='/physical_device:GPU:0', device_type='GPU')]\n"
          ]
        }
      ],
      "source": [
        "# Check if TensorFlow is properly installed and if GPU is detected\n",
        "print(tf.reduce_sum(tf.random.normal([1000, 1000])))\n",
        "print(tf.config.list_physical_devices('GPU'))"
      ]
    },
    {
      "cell_type": "markdown",
      "metadata": {},
      "source": [
        "## Building the Model"
      ]
    },
    {
      "cell_type": "code",
      "execution_count": 11,
      "metadata": {},
      "outputs": [],
      "source": [
        "plotter = Plotter()\n",
        "model_handler = ModelHandler()\n",
        "dataset_handler = DatasetHandler()"
      ]
    },
    {
      "cell_type": "code",
      "execution_count": 12,
      "metadata": {},
      "outputs": [
        {
          "name": "stdout",
          "output_type": "stream",
          "text": [
            "Model: \"model_1\"\n",
            "__________________________________________________________________________________________________\n",
            " Layer (type)                   Output Shape         Param #     Connected to                     \n",
            "==================================================================================================\n",
            " input_2 (InputLayer)           [(None, 1040, 176,   0           []                               \n",
            "                                1)]                                                               \n",
            "                                                                                                  \n",
            " conv2d_19 (Conv2D)             (None, 1040, 176, 3  320         ['input_2[0][0]']                \n",
            "                                2)                                                                \n",
            "                                                                                                  \n",
            " batch_normalization_18 (BatchN  (None, 1040, 176, 3  128        ['conv2d_19[0][0]']              \n",
            " ormalization)                  2)                                                                \n",
            "                                                                                                  \n",
            " dropout_9 (Dropout)            (None, 1040, 176, 3  0           ['batch_normalization_18[0][0]'] \n",
            "                                2)                                                                \n",
            "                                                                                                  \n",
            " conv2d_20 (Conv2D)             (None, 1040, 176, 3  9248        ['dropout_9[0][0]']              \n",
            "                                2)                                                                \n",
            "                                                                                                  \n",
            " batch_normalization_19 (BatchN  (None, 1040, 176, 3  128        ['conv2d_20[0][0]']              \n",
            " ormalization)                  2)                                                                \n",
            "                                                                                                  \n",
            " max_pooling2d_4 (MaxPooling2D)  (None, 520, 88, 32)  0          ['batch_normalization_19[0][0]'] \n",
            "                                                                                                  \n",
            " conv2d_21 (Conv2D)             (None, 520, 88, 64)  18496       ['max_pooling2d_4[0][0]']        \n",
            "                                                                                                  \n",
            " batch_normalization_20 (BatchN  (None, 520, 88, 64)  256        ['conv2d_21[0][0]']              \n",
            " ormalization)                                                                                    \n",
            "                                                                                                  \n",
            " dropout_10 (Dropout)           (None, 520, 88, 64)  0           ['batch_normalization_20[0][0]'] \n",
            "                                                                                                  \n",
            " conv2d_22 (Conv2D)             (None, 520, 88, 64)  36928       ['dropout_10[0][0]']             \n",
            "                                                                                                  \n",
            " batch_normalization_21 (BatchN  (None, 520, 88, 64)  256        ['conv2d_22[0][0]']              \n",
            " ormalization)                                                                                    \n",
            "                                                                                                  \n",
            " max_pooling2d_5 (MaxPooling2D)  (None, 260, 44, 64)  0          ['batch_normalization_21[0][0]'] \n",
            "                                                                                                  \n",
            " conv2d_23 (Conv2D)             (None, 260, 44, 128  73856       ['max_pooling2d_5[0][0]']        \n",
            "                                )                                                                 \n",
            "                                                                                                  \n",
            " batch_normalization_22 (BatchN  (None, 260, 44, 128  512        ['conv2d_23[0][0]']              \n",
            " ormalization)                  )                                                                 \n",
            "                                                                                                  \n",
            " dropout_11 (Dropout)           (None, 260, 44, 128  0           ['batch_normalization_22[0][0]'] \n",
            "                                )                                                                 \n",
            "                                                                                                  \n",
            " conv2d_24 (Conv2D)             (None, 260, 44, 128  147584      ['dropout_11[0][0]']             \n",
            "                                )                                                                 \n",
            "                                                                                                  \n",
            " batch_normalization_23 (BatchN  (None, 260, 44, 128  512        ['conv2d_24[0][0]']              \n",
            " ormalization)                  )                                                                 \n",
            "                                                                                                  \n",
            " max_pooling2d_6 (MaxPooling2D)  (None, 130, 22, 128  0          ['batch_normalization_23[0][0]'] \n",
            "                                )                                                                 \n",
            "                                                                                                  \n",
            " conv2d_25 (Conv2D)             (None, 130, 22, 256  295168      ['max_pooling2d_6[0][0]']        \n",
            "                                )                                                                 \n",
            "                                                                                                  \n",
            " batch_normalization_24 (BatchN  (None, 130, 22, 256  1024       ['conv2d_25[0][0]']              \n",
            " ormalization)                  )                                                                 \n",
            "                                                                                                  \n",
            " dropout_12 (Dropout)           (None, 130, 22, 256  0           ['batch_normalization_24[0][0]'] \n",
            "                                )                                                                 \n",
            "                                                                                                  \n",
            " conv2d_26 (Conv2D)             (None, 130, 22, 256  590080      ['dropout_12[0][0]']             \n",
            "                                )                                                                 \n",
            "                                                                                                  \n",
            " batch_normalization_25 (BatchN  (None, 130, 22, 256  1024       ['conv2d_26[0][0]']              \n",
            " ormalization)                  )                                                                 \n",
            "                                                                                                  \n",
            " max_pooling2d_7 (MaxPooling2D)  (None, 65, 11, 256)  0          ['batch_normalization_25[0][0]'] \n",
            "                                                                                                  \n",
            " conv2d_27 (Conv2D)             (None, 65, 11, 512)  1180160     ['max_pooling2d_7[0][0]']        \n",
            "                                                                                                  \n",
            " batch_normalization_26 (BatchN  (None, 65, 11, 512)  2048       ['conv2d_27[0][0]']              \n",
            " ormalization)                                                                                    \n",
            "                                                                                                  \n",
            " dropout_13 (Dropout)           (None, 65, 11, 512)  0           ['batch_normalization_26[0][0]'] \n",
            "                                                                                                  \n",
            " conv2d_28 (Conv2D)             (None, 65, 11, 512)  2359808     ['dropout_13[0][0]']             \n",
            "                                                                                                  \n",
            " batch_normalization_27 (BatchN  (None, 65, 11, 512)  2048       ['conv2d_28[0][0]']              \n",
            " ormalization)                                                                                    \n",
            "                                                                                                  \n",
            " conv2d_transpose_4 (Conv2DTran  (None, 130, 22, 256  524544     ['batch_normalization_27[0][0]'] \n",
            " spose)                         )                                                                 \n",
            "                                                                                                  \n",
            " concatenate_4 (Concatenate)    (None, 130, 22, 512  0           ['conv2d_transpose_4[0][0]',     \n",
            "                                )                                 'batch_normalization_25[0][0]'] \n",
            "                                                                                                  \n",
            " conv2d_29 (Conv2D)             (None, 130, 22, 256  1179904     ['concatenate_4[0][0]']          \n",
            "                                )                                                                 \n",
            "                                                                                                  \n",
            " batch_normalization_28 (BatchN  (None, 130, 22, 256  1024       ['conv2d_29[0][0]']              \n",
            " ormalization)                  )                                                                 \n",
            "                                                                                                  \n",
            " dropout_14 (Dropout)           (None, 130, 22, 256  0           ['batch_normalization_28[0][0]'] \n",
            "                                )                                                                 \n",
            "                                                                                                  \n",
            " conv2d_30 (Conv2D)             (None, 130, 22, 256  590080      ['dropout_14[0][0]']             \n",
            "                                )                                                                 \n",
            "                                                                                                  \n",
            " batch_normalization_29 (BatchN  (None, 130, 22, 256  1024       ['conv2d_30[0][0]']              \n",
            " ormalization)                  )                                                                 \n",
            "                                                                                                  \n",
            " conv2d_transpose_5 (Conv2DTran  (None, 260, 44, 128  131200     ['batch_normalization_29[0][0]'] \n",
            " spose)                         )                                                                 \n",
            "                                                                                                  \n",
            " concatenate_5 (Concatenate)    (None, 260, 44, 256  0           ['conv2d_transpose_5[0][0]',     \n",
            "                                )                                 'batch_normalization_23[0][0]'] \n",
            "                                                                                                  \n",
            " conv2d_31 (Conv2D)             (None, 260, 44, 128  295040      ['concatenate_5[0][0]']          \n",
            "                                )                                                                 \n",
            "                                                                                                  \n",
            " batch_normalization_30 (BatchN  (None, 260, 44, 128  512        ['conv2d_31[0][0]']              \n",
            " ormalization)                  )                                                                 \n",
            "                                                                                                  \n",
            " dropout_15 (Dropout)           (None, 260, 44, 128  0           ['batch_normalization_30[0][0]'] \n",
            "                                )                                                                 \n",
            "                                                                                                  \n",
            " conv2d_32 (Conv2D)             (None, 260, 44, 128  147584      ['dropout_15[0][0]']             \n",
            "                                )                                                                 \n",
            "                                                                                                  \n",
            " batch_normalization_31 (BatchN  (None, 260, 44, 128  512        ['conv2d_32[0][0]']              \n",
            " ormalization)                  )                                                                 \n",
            "                                                                                                  \n",
            " conv2d_transpose_6 (Conv2DTran  (None, 520, 88, 64)  32832      ['batch_normalization_31[0][0]'] \n",
            " spose)                                                                                           \n",
            "                                                                                                  \n",
            " concatenate_6 (Concatenate)    (None, 520, 88, 128  0           ['conv2d_transpose_6[0][0]',     \n",
            "                                )                                 'batch_normalization_21[0][0]'] \n",
            "                                                                                                  \n",
            " conv2d_33 (Conv2D)             (None, 520, 88, 64)  73792       ['concatenate_6[0][0]']          \n",
            "                                                                                                  \n",
            " batch_normalization_32 (BatchN  (None, 520, 88, 64)  256        ['conv2d_33[0][0]']              \n",
            " ormalization)                                                                                    \n",
            "                                                                                                  \n",
            " dropout_16 (Dropout)           (None, 520, 88, 64)  0           ['batch_normalization_32[0][0]'] \n",
            "                                                                                                  \n",
            " conv2d_34 (Conv2D)             (None, 520, 88, 64)  36928       ['dropout_16[0][0]']             \n",
            "                                                                                                  \n",
            " batch_normalization_33 (BatchN  (None, 520, 88, 64)  256        ['conv2d_34[0][0]']              \n",
            " ormalization)                                                                                    \n",
            "                                                                                                  \n",
            " conv2d_transpose_7 (Conv2DTran  (None, 1040, 176, 3  8224       ['batch_normalization_33[0][0]'] \n",
            " spose)                         2)                                                                \n",
            "                                                                                                  \n",
            " concatenate_7 (Concatenate)    (None, 1040, 176, 6  0           ['conv2d_transpose_7[0][0]',     \n",
            "                                4)                                'batch_normalization_19[0][0]'] \n",
            "                                                                                                  \n",
            " conv2d_35 (Conv2D)             (None, 1040, 176, 3  18464       ['concatenate_7[0][0]']          \n",
            "                                2)                                                                \n",
            "                                                                                                  \n",
            " batch_normalization_34 (BatchN  (None, 1040, 176, 3  128        ['conv2d_35[0][0]']              \n",
            " ormalization)                  2)                                                                \n",
            "                                                                                                  \n",
            " dropout_17 (Dropout)           (None, 1040, 176, 3  0           ['batch_normalization_34[0][0]'] \n",
            "                                2)                                                                \n",
            "                                                                                                  \n",
            " conv2d_36 (Conv2D)             (None, 1040, 176, 3  9248        ['dropout_17[0][0]']             \n",
            "                                2)                                                                \n",
            "                                                                                                  \n",
            " batch_normalization_35 (BatchN  (None, 1040, 176, 3  128        ['conv2d_36[0][0]']              \n",
            " ormalization)                  2)                                                                \n",
            "                                                                                                  \n",
            " conv2d_37 (Conv2D)             (None, 1040, 176, 2  66          ['batch_normalization_35[0][0]'] \n",
            "                                )                                                                 \n",
            "                                                                                                  \n",
            "==================================================================================================\n",
            "Total params: 7,771,330\n",
            "Trainable params: 7,765,442\n",
            "Non-trainable params: 5,888\n",
            "__________________________________________________________________________________________________\n"
          ]
        }
      ],
      "source": [
        "unet = model_handler.buildModel()"
      ]
    },
    {
      "cell_type": "markdown",
      "metadata": {},
      "source": [
        "## Preparing the Dataset"
      ]
    },
    {
      "cell_type": "code",
      "execution_count": null,
      "metadata": {},
      "outputs": [],
      "source": [
        "# dataset_handler.writeTrainInputSpec()\n",
        "# dataset_handler.writeTrainOutputSpec()\n",
        "# dataset_handler.createBassless()"
      ]
    },
    {
      "cell_type": "markdown",
      "metadata": {},
      "source": [
        "## Training the Model"
      ]
    },
    {
      "cell_type": "code",
      "execution_count": 13,
      "metadata": {},
      "outputs": [
        {
          "name": "stdout",
          "output_type": "stream",
          "text": [
            "Epoch 1/40\n"
          ]
        },
        {
          "name": "stderr",
          "output_type": "stream",
          "text": [
            "c:\\Users\\Rohan\\miniconda3\\envs\\tf\\lib\\site-packages\\tensorflow\\python\\ops\\script_ops.py:230: ComplexWarning: Casting complex values to real discards the imaginary part\n",
            "  result = np.asarray(value, dtype=dtype, order=\"C\")\n"
          ]
        },
        {
          "name": "stdout",
          "output_type": "stream",
          "text": [
            "   1436/Unknown - 684s 469ms/step - loss: -0.7096 - accuracy: 0.6437\n",
            "Epoch 1: saving model to ./model\\bass_separator_40e_8b.h5\n",
            "1436/1436 [==============================] - 685s 469ms/step - loss: -0.7096 - accuracy: 0.6437\n",
            "Epoch 2/40\n",
            "1436/1436 [==============================] - ETA: 0s - loss: -0.8351 - accuracy: 0.6886\n",
            "Epoch 2: saving model to ./model\\bass_separator_40e_8b.h5\n",
            "1436/1436 [==============================] - 629s 438ms/step - loss: -0.8351 - accuracy: 0.6886\n",
            "Epoch 3/40\n",
            "1436/1436 [==============================] - ETA: 0s - loss: -0.8413 - accuracy: 0.7003\n",
            "Epoch 3: saving model to ./model\\bass_separator_40e_8b.h5\n",
            "1436/1436 [==============================] - 574s 400ms/step - loss: -0.8413 - accuracy: 0.7003\n",
            "Epoch 4/40\n",
            "1436/1436 [==============================] - ETA: 0s - loss: -0.8783 - accuracy: 0.7177\n",
            "Epoch 4: saving model to ./model\\bass_separator_40e_8b.h5\n",
            "1436/1436 [==============================] - 546s 380ms/step - loss: -0.8783 - accuracy: 0.7177\n",
            "Epoch 5/40\n",
            "1436/1436 [==============================] - ETA: 0s - loss: -0.8754 - accuracy: 0.7211\n",
            "Epoch 5: saving model to ./model\\bass_separator_40e_8b.h5\n",
            "1436/1436 [==============================] - 548s 382ms/step - loss: -0.8754 - accuracy: 0.7211\n",
            "Epoch 6/40\n",
            "1436/1436 [==============================] - ETA: 0s - loss: -0.8800 - accuracy: 0.7206\n",
            "Epoch 6: saving model to ./model\\bass_separator_40e_8b.h5\n",
            "1436/1436 [==============================] - 547s 381ms/step - loss: -0.8800 - accuracy: 0.7206\n",
            "Epoch 7/40\n",
            "1436/1436 [==============================] - ETA: 0s - loss: -0.9002 - accuracy: 0.7353\n",
            "Epoch 7: saving model to ./model\\bass_separator_40e_8b.h5\n",
            "1436/1436 [==============================] - 547s 381ms/step - loss: -0.9002 - accuracy: 0.7353\n",
            "Epoch 8/40\n",
            "1436/1436 [==============================] - ETA: 0s - loss: -0.9022 - accuracy: 0.7314\n",
            "Epoch 8: saving model to ./model\\bass_separator_40e_8b.h5\n",
            "1436/1436 [==============================] - 548s 381ms/step - loss: -0.9022 - accuracy: 0.7314\n",
            "Epoch 9/40\n",
            "1436/1436 [==============================] - ETA: 0s - loss: -0.9084 - accuracy: 0.7383\n",
            "Epoch 9: saving model to ./model\\bass_separator_40e_8b.h5\n",
            "1436/1436 [==============================] - 548s 381ms/step - loss: -0.9084 - accuracy: 0.7383\n",
            "Epoch 10/40\n",
            "1436/1436 [==============================] - ETA: 0s - loss: -0.9011 - accuracy: 0.7345\n",
            "Epoch 10: saving model to ./model\\bass_separator_40e_8b.h5\n",
            "1436/1436 [==============================] - 549s 382ms/step - loss: -0.9011 - accuracy: 0.7345\n",
            "Epoch 11/40\n",
            "1436/1436 [==============================] - ETA: 0s - loss: -0.9143 - accuracy: 0.7361\n",
            "Epoch 11: saving model to ./model\\bass_separator_40e_8b.h5\n",
            "1436/1436 [==============================] - 549s 382ms/step - loss: -0.9143 - accuracy: 0.7361\n",
            "Epoch 12/40\n",
            "1436/1436 [==============================] - ETA: 0s - loss: -0.9038 - accuracy: 0.7397\n",
            "Epoch 12: saving model to ./model\\bass_separator_40e_8b.h5\n",
            "1436/1436 [==============================] - 549s 382ms/step - loss: -0.9038 - accuracy: 0.7397\n",
            "Epoch 13/40\n",
            "1436/1436 [==============================] - ETA: 0s - loss: -0.9212 - accuracy: 0.7492\n",
            "Epoch 13: saving model to ./model\\bass_separator_40e_8b.h5\n",
            "1436/1436 [==============================] - 549s 382ms/step - loss: -0.9212 - accuracy: 0.7492\n",
            "Epoch 14/40\n",
            "1436/1436 [==============================] - ETA: 0s - loss: -0.9235 - accuracy: 0.7456\n",
            "Epoch 14: saving model to ./model\\bass_separator_40e_8b.h5\n",
            "1436/1436 [==============================] - 549s 382ms/step - loss: -0.9235 - accuracy: 0.7456\n",
            "Epoch 15/40\n",
            "1436/1436 [==============================] - ETA: 0s - loss: -0.9169 - accuracy: 0.7492\n",
            "Epoch 15: saving model to ./model\\bass_separator_40e_8b.h5\n",
            "1436/1436 [==============================] - 549s 382ms/step - loss: -0.9169 - accuracy: 0.7492\n",
            "Epoch 16/40\n",
            "1436/1436 [==============================] - ETA: 0s - loss: -0.9140 - accuracy: 0.7495\n",
            "Epoch 16: saving model to ./model\\bass_separator_40e_8b.h5\n",
            "1436/1436 [==============================] - 549s 382ms/step - loss: -0.9140 - accuracy: 0.7495\n",
            "Epoch 17/40\n",
            "1436/1436 [==============================] - ETA: 0s - loss: -0.9168 - accuracy: 0.7529\n",
            "Epoch 17: saving model to ./model\\bass_separator_40e_8b.h5\n",
            "1436/1436 [==============================] - 549s 382ms/step - loss: -0.9168 - accuracy: 0.7529\n",
            "Epoch 18/40\n",
            "1436/1436 [==============================] - ETA: 0s - loss: -0.9225 - accuracy: 0.7530\n",
            "Epoch 18: saving model to ./model\\bass_separator_40e_8b.h5\n",
            "1436/1436 [==============================] - 549s 382ms/step - loss: -0.9225 - accuracy: 0.7530\n",
            "Epoch 19/40\n",
            "1436/1436 [==============================] - ETA: 0s - loss: -0.9259 - accuracy: 0.7567\n",
            "Epoch 19: saving model to ./model\\bass_separator_40e_8b.h5\n",
            "1436/1436 [==============================] - 549s 382ms/step - loss: -0.9259 - accuracy: 0.7567\n",
            "Epoch 20/40\n",
            "1436/1436 [==============================] - ETA: 0s - loss: -0.9263 - accuracy: 0.7551\n",
            "Epoch 20: saving model to ./model\\bass_separator_40e_8b.h5\n",
            "1436/1436 [==============================] - 549s 382ms/step - loss: -0.9263 - accuracy: 0.7551\n",
            "Epoch 21/40\n",
            "1436/1436 [==============================] - ETA: 0s - loss: -0.9259 - accuracy: 0.7557\n",
            "Epoch 21: saving model to ./model\\bass_separator_40e_8b.h5\n",
            "1436/1436 [==============================] - 550s 383ms/step - loss: -0.9259 - accuracy: 0.7557\n",
            "Epoch 22/40\n",
            "1436/1436 [==============================] - ETA: 0s - loss: -0.9330 - accuracy: 0.7580\n",
            "Epoch 22: saving model to ./model\\bass_separator_40e_8b.h5\n",
            "1436/1436 [==============================] - 549s 382ms/step - loss: -0.9330 - accuracy: 0.7580\n",
            "Epoch 23/40\n",
            "1436/1436 [==============================] - ETA: 0s - loss: -0.9334 - accuracy: 0.7590\n",
            "Epoch 23: saving model to ./model\\bass_separator_40e_8b.h5\n",
            "1436/1436 [==============================] - 549s 382ms/step - loss: -0.9334 - accuracy: 0.7590\n",
            "Epoch 24/40\n",
            "1436/1436 [==============================] - ETA: 0s - loss: -0.9334 - accuracy: 0.7582\n",
            "Epoch 24: saving model to ./model\\bass_separator_40e_8b.h5\n",
            "1436/1436 [==============================] - 549s 382ms/step - loss: -0.9334 - accuracy: 0.7582\n",
            "Epoch 25/40\n",
            "1436/1436 [==============================] - ETA: 0s - loss: -0.9374 - accuracy: 0.7603\n",
            "Epoch 25: saving model to ./model\\bass_separator_40e_8b.h5\n",
            "1436/1436 [==============================] - 546s 380ms/step - loss: -0.9374 - accuracy: 0.7603\n",
            "Epoch 26/40\n",
            "1436/1436 [==============================] - ETA: 0s - loss: -0.9372 - accuracy: 0.7640\n",
            "Epoch 26: saving model to ./model\\bass_separator_40e_8b.h5\n",
            "1436/1436 [==============================] - 549s 382ms/step - loss: -0.9372 - accuracy: 0.7640\n",
            "Epoch 27/40\n",
            "1436/1436 [==============================] - ETA: 0s - loss: -0.9406 - accuracy: 0.7651\n",
            "Epoch 27: saving model to ./model\\bass_separator_40e_8b.h5\n",
            "1436/1436 [==============================] - 549s 382ms/step - loss: -0.9406 - accuracy: 0.7651\n",
            "Epoch 28/40\n",
            "1436/1436 [==============================] - ETA: 0s - loss: -0.9374 - accuracy: 0.7652\n",
            "Epoch 28: saving model to ./model\\bass_separator_40e_8b.h5\n",
            "1436/1436 [==============================] - 549s 382ms/step - loss: -0.9374 - accuracy: 0.7652\n",
            "Epoch 29/40\n",
            "1436/1436 [==============================] - ETA: 0s - loss: -0.9263 - accuracy: 0.7595\n",
            "Epoch 29: saving model to ./model\\bass_separator_40e_8b.h5\n",
            "1436/1436 [==============================] - 551s 383ms/step - loss: -0.9263 - accuracy: 0.7595\n",
            "Epoch 30/40\n",
            "1436/1436 [==============================] - ETA: 0s - loss: -0.9344 - accuracy: 0.7656\n",
            "Epoch 30: saving model to ./model\\bass_separator_40e_8b.h5\n",
            "1436/1436 [==============================] - 549s 383ms/step - loss: -0.9344 - accuracy: 0.7656\n",
            "Epoch 31/40\n",
            "1436/1436 [==============================] - ETA: 0s - loss: -0.9392 - accuracy: 0.7659\n",
            "Epoch 31: saving model to ./model\\bass_separator_40e_8b.h5\n",
            "1436/1436 [==============================] - 549s 382ms/step - loss: -0.9392 - accuracy: 0.7659\n",
            "Epoch 32/40\n",
            "1436/1436 [==============================] - ETA: 0s - loss: -0.9376 - accuracy: 0.7581\n",
            "Epoch 32: saving model to ./model\\bass_separator_40e_8b.h5\n",
            "1436/1436 [==============================] - 549s 382ms/step - loss: -0.9376 - accuracy: 0.7581\n",
            "Epoch 33/40\n",
            "1436/1436 [==============================] - ETA: 0s - loss: -0.9423 - accuracy: 0.7599\n",
            "Epoch 33: saving model to ./model\\bass_separator_40e_8b.h5\n",
            "1436/1436 [==============================] - 549s 382ms/step - loss: -0.9423 - accuracy: 0.7599\n",
            "Epoch 34/40\n",
            "1436/1436 [==============================] - ETA: 0s - loss: -0.9337 - accuracy: 0.7563\n",
            "Epoch 34: saving model to ./model\\bass_separator_40e_8b.h5\n",
            "1436/1436 [==============================] - 549s 382ms/step - loss: -0.9337 - accuracy: 0.7563\n",
            "Epoch 35/40\n",
            "1436/1436 [==============================] - ETA: 0s - loss: -0.9449 - accuracy: 0.7659\n",
            "Epoch 35: saving model to ./model\\bass_separator_40e_8b.h5\n",
            "1436/1436 [==============================] - 549s 382ms/step - loss: -0.9449 - accuracy: 0.7659\n",
            "Epoch 36/40\n",
            "1436/1436 [==============================] - ETA: 0s - loss: -0.9451 - accuracy: 0.7663\n",
            "Epoch 36: saving model to ./model\\bass_separator_40e_8b.h5\n",
            "1436/1436 [==============================] - 549s 382ms/step - loss: -0.9451 - accuracy: 0.7663\n",
            "Epoch 37/40\n",
            "1436/1436 [==============================] - ETA: 0s - loss: -0.9447 - accuracy: 0.7643\n",
            "Epoch 37: saving model to ./model\\bass_separator_40e_8b.h5\n",
            "1436/1436 [==============================] - 549s 382ms/step - loss: -0.9447 - accuracy: 0.7643\n",
            "Epoch 38/40\n",
            "1436/1436 [==============================] - ETA: 0s - loss: -0.9450 - accuracy: 0.7647\n",
            "Epoch 38: saving model to ./model\\bass_separator_40e_8b.h5\n",
            "1436/1436 [==============================] - 549s 382ms/step - loss: -0.9450 - accuracy: 0.7647\n",
            "Epoch 39/40\n",
            "1436/1436 [==============================] - ETA: 0s - loss: -0.9443 - accuracy: 0.7694\n",
            "Epoch 39: saving model to ./model\\bass_separator_40e_8b.h5\n",
            "1436/1436 [==============================] - 549s 382ms/step - loss: -0.9443 - accuracy: 0.7694\n",
            "Epoch 40/40\n",
            "1436/1436 [==============================] - ETA: 0s - loss: -0.9404 - accuracy: 0.7608\n",
            "Epoch 40: saving model to ./model\\bass_separator_40e_8b.h5\n",
            "1436/1436 [==============================] - 549s 383ms/step - loss: -0.9404 - accuracy: 0.7608\n"
          ]
        }
      ],
      "source": [
        "callbacks = model_handler.createCallbacks()\n",
        "train_dataset =  model_handler.buildDataFromGenerator()\n",
        "results = model_handler.modelFit(unet, callbacks, train_dataset)"
      ]
    },
    {
      "cell_type": "markdown",
      "metadata": {},
      "source": [
        "## Validating the Model"
      ]
    },
    {
      "cell_type": "code",
      "execution_count": 18,
      "metadata": {},
      "outputs": [
        {
          "name": "stdout",
          "output_type": "stream",
          "text": [
            "Sampling rate:  44100\n",
            "Number of segments:  120\n",
            "Spectrograms shape:  (120, 1025, 173)\n",
            "Padded spectrograms shape:  (120, 1040, 176)\n",
            "\n",
            "15/15 [==============================] - 2s 92ms/step\n",
            "Output shape:  (120, 1040, 176, 2)\n",
            "Output shape (swapped axes):  (2, 120, 1040, 176)\n",
            "Bass output shape:  (120, 1040, 176)\n",
            "Bassless output shape:  (120, 1040, 176)\n",
            "\n"
          ]
        }
      ],
      "source": [
        "song_path = \"Music/9mm Parabellum Bullet - Heart Ni Hi Wo Tsukete (Dawning Version) (44100Hz).wav\"\n",
        "model_name = \"bass_separator_40e_8b.h5\"\n",
        "\n",
        "bass, bassless = model_handler.predictSong(song_path, model_name)\n",
        "\n",
        "list = song_path.split(\"/\")\n",
        "song_name = list[-1][:-4]\n",
        "\n",
        "bass_istft, bassless_istft = model_handler.getOutputWavs(song_path, bass, bassless)\n",
        "\n",
        "model_handler.saveOutputs(bass_istft, bassless_istft, song_name)"
      ]
    }
  ],
  "metadata": {
    "colab": {
      "authorship_tag": "ABX9TyNepMn5SYw1L0XtDlq2nrH3",
      "include_colab_link": true,
      "name": "project_notebook.ipynb",
      "provenance": []
    },
    "kernelspec": {
      "display_name": "Python 3",
      "name": "python3"
    },
    "language_info": {
      "codemirror_mode": {
        "name": "ipython",
        "version": 3
      },
      "file_extension": ".py",
      "mimetype": "text/x-python",
      "name": "python",
      "nbconvert_exporter": "python",
      "pygments_lexer": "ipython3",
      "version": "3.9.19"
    }
  },
  "nbformat": 4,
  "nbformat_minor": 0
}
